{
 "cells": [
  {
   "cell_type": "code",
   "execution_count": 1,
   "metadata": {},
   "outputs": [],
   "source": [
    "# -*- coding: utf-8 -*-\n",
    "import urllib.request\n",
    "import urllib.error\n",
    "import matplotlib.pyplot as plt\n",
    "import time\n",
    "import json\n",
    "from skimage import io\n",
    "import numpy as np\n",
    "from PIL import Image, ImageDraw"
   ]
  },
  {
   "cell_type": "code",
   "execution_count": 33,
   "metadata": {},
   "outputs": [],
   "source": [
    "http_url = 'https://api-cn.faceplusplus.com/facepp/v3/detect'\n",
    "key = \"fu2JJmfuA-cHjwc1sHZ0ISpmUWtExmob\"\n",
    "secret = \"YO189Z_56TeWMG4ZDPiYjOr0KWmA0ePf\"\n",
    "filepath = r\"/home/fesian/contest_workspace/lip_train/lip_train/2dd617ef1a2e45f1cb61f4c4a16ce578/10.png\""
   ]
  },
  {
   "cell_type": "code",
   "execution_count": 30,
   "metadata": {},
   "outputs": [],
   "source": [
    "boundary = '----------%s' % hex(int(time.time() * 1000))\n",
    "data = []\n",
    "data.append('--%s' % boundary)\n",
    "data.append('Content-Disposition: form-data; name=\"%s\"\\r\\n' % 'api_key')\n",
    "data.append(key)\n",
    "data.append('--%s' % boundary)\n",
    "data.append('Content-Disposition: form-data; name=\"%s\"\\r\\n' % 'api_secret')\n",
    "data.append(secret)\n",
    "data.append('--%s' % boundary)\n",
    "fr = open(filepath, 'rb')\n",
    "data.append('Content-Disposition: form-data; name=\"%s\"; filename=\" \"' % 'image_file')\n",
    "data.append('Content-Type: %s\\r\\n' % 'application/octet-stream')\n",
    "data.append(fr.read())\n",
    "fr.close()\n",
    "data.append('--%s' % boundary)\n",
    "data.append('Content-Disposition: form-data; name=\"%s\"\\r\\n' % 'return_landmark')\n",
    "data.append('2')\n",
    "data.append('--%s' % boundary)\n",
    "data.append('Content-Disposition: form-data; name=\"%s\"\\r\\n' % 'return_attributes')\n",
    "data.append(\n",
    "    \"gender,age,smiling,headpose,facequality,blur,eyestatus,emotion,ethnicity,beauty,mouthstatus,eyegaze,skinstatus\")\n",
    "data.append('--%s--\\r\\n' % boundary)"
   ]
  },
  {
   "cell_type": "code",
   "execution_count": 31,
   "metadata": {},
   "outputs": [],
   "source": [
    "for i, d in enumerate(data):\n",
    "    if isinstance(d, str):\n",
    "        data[i] = d.encode('utf-8')  # change to byte type\n",
    "\n",
    "http_body = b'\\r\\n'.join(data)\n",
    "\n",
    "# build http request\n",
    "req = urllib.request.Request(url=http_url, data=http_body)\n",
    "\n",
    "# header\n",
    "req.add_header('Content-Type', 'multipart/form-data; boundary=%s' % boundary)"
   ]
  },
  {
   "cell_type": "code",
   "execution_count": 32,
   "metadata": {},
   "outputs": [
    {
     "name": "stdout",
     "output_type": "stream",
     "text": [
      "{\"time_used\": 100, \"error_message\": \"BAD_ARGUMENTS: return_landmark\", \"request_id\": \"1569949899,4c86c71d-64e4-425b-a160-f3ebafe8f035\"}\n"
     ]
    }
   ],
   "source": [
    "try:\n",
    "    # post data to server\n",
    "    resp = urllib.request.urlopen(req, timeout=5)\n",
    "    # get response\n",
    "    qrcont = resp.read()\n",
    "    # if you want to load as json, you should decode first,\n",
    "    # for example: json.loads(qrcont.decode('utf-8'))\n",
    "    # print(qrcont.decode('utf-8'))\n",
    "\n",
    "    dic = json.loads(qrcont.decode('utf-8'))\n",
    "    print(dic)\n",
    "    # print(dic)\n",
    "    print(type(dic))\n",
    "    faces_data = dic['faces']\n",
    "    faces_data = faces_data[0]\n",
    "    print(faces_data.get('face_token'))\n",
    "    print(faces_data.get('face_rectangle'))\n",
    "    dictFace = faces_data.get('face_rectangle')\n",
    "\n",
    "    left = dictFace['left']\n",
    "    top = dictFace['top']\n",
    "    height = dictFace['height']\n",
    "    width = dictFace['width']\n",
    "\n",
    "    # landmark\n",
    "    dictLandmark = faces_data.get('landmark')\n",
    "\n",
    "    img = Image.open(filepath)\n",
    "    print(type(img))\n",
    "    img1 = np.array(img)\n",
    "    draw = ImageDraw.Draw(img)\n",
    "    draw.line([(left, top), (left + width, top), (left + width, top + height), (left, top + width), (left, top)], 'red')\n",
    "    new_img = img1[top:(top + height), left:(left + width)]\n",
    "    io.imsave(r\"./test_l.jpg\", new_img)\n",
    "\n",
    "    for i in dictLandmark:\n",
    "        top = dictLandmark[i]['y']\n",
    "        left = dictLandmark[i]['x']\n",
    "        draw.line([(left, top), (left + 1, top), (left + 1, top + 1), (left, top + 1), (left, top)], 'blue')\n",
    "    img.show()\n",
    "\n",
    "    # attributes\n",
    "    dictAttributes = faces_data.get('attributes')\n",
    "    print(\"gender: %s\" % dictAttributes.get(\"gender\").get(\"value\"))\n",
    "    print(\"age: %s\" % dictAttributes.get(\"age\").get(\"value\"))\n",
    "    print(\"glass: %s\" % dictAttributes.get(\"glass\").get(\"value\"))\n",
    "    print(\"ethnicity: %s\" % dictAttributes.get(\"ethnicity\").get(\"value\"))\n",
    "    print(\"beauty_male: %s\" % dictAttributes[\"beauty\"][\"male_score\"])\n",
    "    print(\"beauty_female: %s\" % dictAttributes[\"beauty\"][\"female_score\"])\n",
    "\n",
    "except urllib.error.HTTPError as e:\n",
    "    print(e.read().decode('utf-8'))"
   ]
  },
  {
   "cell_type": "code",
   "execution_count": null,
   "metadata": {},
   "outputs": [],
   "source": []
  }
 ],
 "metadata": {
  "kernelspec": {
   "display_name": "Python 3",
   "language": "python",
   "name": "python3"
  },
  "language_info": {
   "codemirror_mode": {
    "name": "ipython",
    "version": 3
   },
   "file_extension": ".py",
   "mimetype": "text/x-python",
   "name": "python",
   "nbconvert_exporter": "python",
   "pygments_lexer": "ipython3",
   "version": "3.7.3"
  }
 },
 "nbformat": 4,
 "nbformat_minor": 2
}
