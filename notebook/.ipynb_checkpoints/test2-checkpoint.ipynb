{
 "cells": [
  {
   "cell_type": "code",
   "execution_count": 1,
   "metadata": {},
   "outputs": [],
   "source": [
    "import numpy as np\n",
    "import matplotlib.pyplot as plt\n",
    "import os\n",
    "import imageio\n",
    "import cv2\n",
    "from PIL import Image\n",
    "%matplotlib inline"
   ]
  },
  {
   "cell_type": "code",
   "execution_count": 3,
   "metadata": {},
   "outputs": [],
   "source": [
    "datatype = ['test']\n",
    "load_path= lambda x: '/home/fesian/contest_workspace/chunyu/dataset/landmarks_normal/{}data/'.format(x)\n",
    "save_path = lambda x: '/home/fesian/contest_workspace/chunyu/dataset/landmark2img/{}/'.format(x)"
   ]
  },
  {
   "cell_type": "code",
   "execution_count": null,
   "metadata": {
    "scrolled": true
   },
   "outputs": [
    {
     "name": "stdout",
     "output_type": "stream",
     "text": [
      " => test mode, with sample index 0\n",
      " => test mode, with sample index 1\n",
      " => test mode, with sample index 2\n",
      " => test mode, with sample index 3\n",
      " => test mode, with sample index 4\n",
      " => test mode, with sample index 5\n",
      " => test mode, with sample index 6\n",
      " => test mode, with sample index 7\n",
      " => test mode, with sample index 8\n",
      " => test mode, with sample index 9\n",
      " => test mode, with sample index 10\n",
      " => test mode, with sample index 11\n",
      " => test mode, with sample index 12\n",
      " => test mode, with sample index 13\n",
      " => test mode, with sample index 14\n",
      " => test mode, with sample index 15\n",
      " => test mode, with sample index 16\n",
      " => test mode, with sample index 17\n",
      " => test mode, with sample index 18\n",
      " => test mode, with sample index 19\n",
      " => test mode, with sample index 20\n",
      " => test mode, with sample index 21\n",
      " => test mode, with sample index 22\n",
      " => test mode, with sample index 23\n",
      " => test mode, with sample index 24\n",
      " => test mode, with sample index 25\n",
      " => test mode, with sample index 26\n",
      " => test mode, with sample index 27\n",
      " => test mode, with sample index 28\n",
      " => test mode, with sample index 29\n",
      " => test mode, with sample index 30\n",
      " => test mode, with sample index 31\n",
      " => test mode, with sample index 32\n",
      " => test mode, with sample index 33\n",
      " => test mode, with sample index 34\n",
      " => test mode, with sample index 35\n",
      " => test mode, with sample index 36\n",
      " => test mode, with sample index 37\n",
      " => test mode, with sample index 38\n",
      " => test mode, with sample index 39\n",
      " => test mode, with sample index 40\n",
      " => test mode, with sample index 41\n",
      " => test mode, with sample index 42\n",
      " => test mode, with sample index 43\n",
      " => test mode, with sample index 44\n",
      " => test mode, with sample index 45\n",
      " => test mode, with sample index 46\n",
      " => test mode, with sample index 47\n",
      " => test mode, with sample index 48\n",
      " => test mode, with sample index 49\n",
      " => test mode, with sample index 50\n",
      " => test mode, with sample index 51\n",
      " => test mode, with sample index 52\n",
      " => test mode, with sample index 53\n",
      " => test mode, with sample index 54\n",
      " => test mode, with sample index 55\n",
      " => test mode, with sample index 56\n",
      " => test mode, with sample index 57\n",
      " => test mode, with sample index 58\n",
      " => test mode, with sample index 59\n",
      " => test mode, with sample index 60\n",
      " => test mode, with sample index 61\n",
      " => test mode, with sample index 62\n",
      " => test mode, with sample index 63\n",
      " => test mode, with sample index 64\n",
      " => test mode, with sample index 65\n",
      " => test mode, with sample index 66\n",
      " => test mode, with sample index 67\n"
     ]
    }
   ],
   "source": [
    "links = [\n",
    "    (48, 49), (49,50), (50,51), (51,52), (52,53), (53,54),(54,55), (55,56), (56,57), (57,58), (58,59), (59,48),\n",
    "    (48,60),(60,61),(61,62),(62,63),(63,64),(64,54),(60,67),(67,66),(66,65),(65,64),(64,54)\n",
    "]\n",
    "links = np.array(links)\n",
    "\n",
    "\n",
    "for eacht in datatype:\n",
    "    lists = os.listdir(load_path(eacht))\n",
    "    for ind, s in enumerate(lists):\n",
    "        print(' => {} mode, with sample index {}'.format(eacht, ind))\n",
    "        path = load_path(eacht)+s\n",
    "        sample = np.load(path)\n",
    "        if sample.shape[0] == 0:\n",
    "            continue\n",
    "        sample = sample[:, 48:68, :]\n",
    "        nframe, njoint, ndepth = sample.shape\n",
    "        center = sample[:, 0, :][:,np.newaxis,:]\n",
    "        sample -= center\n",
    "        miny = np.min(sample, axis=1)\n",
    "        miny = miny[:, np.newaxis, :]\n",
    "        sample -= miny\n",
    "        save_folder = save_path(eacht)+s[:-4]+'/'\n",
    "        if not os.path.exists(save_folder):\n",
    "            os.makedirs(save_folder)\n",
    "        \n",
    "        fig = plt.figure()\n",
    "        for indf, frame in enumerate(sample):\n",
    "            plt.clf()\n",
    "            for pair in links:\n",
    "                p1,p2 = pair[0]-48, pair[1]-48\n",
    "                plt.plot([frame[p1, 0], frame[p2,0]], [frame[p1, 1], frame[p2,1]], 'r')\n",
    "            save_filename = save_folder+'{}.png'.format(indf)\n",
    "            plt.xticks([])  #去掉x轴\n",
    "            plt.yticks([])  #去掉y轴\n",
    "            plt.axis('off')  #去掉坐标轴\n",
    "            plt.savefig(save_filename)\n",
    "        plt.cla()\n",
    "        plt.close(\"all\")\n",
    "#             fig.canvas.draw()\n",
    "#             # Now we can save it to a numpy array.\n",
    "#             data = np.fromstring(fig.canvas.tostring_rgb(), dtype=np.uint8, sep='')\n",
    "#             data = data.reshape(fig.canvas.get_width_height()[::-1] + (3,))\n",
    "#             print(data.shape)\n",
    "            "
   ]
  },
  {
   "cell_type": "code",
   "execution_count": null,
   "metadata": {},
   "outputs": [],
   "source": []
  },
  {
   "cell_type": "code",
   "execution_count": null,
   "metadata": {},
   "outputs": [],
   "source": []
  },
  {
   "cell_type": "code",
   "execution_count": null,
   "metadata": {},
   "outputs": [],
   "source": []
  },
  {
   "cell_type": "code",
   "execution_count": null,
   "metadata": {},
   "outputs": [],
   "source": []
  },
  {
   "cell_type": "code",
   "execution_count": null,
   "metadata": {},
   "outputs": [],
   "source": []
  },
  {
   "cell_type": "code",
   "execution_count": null,
   "metadata": {},
   "outputs": [],
   "source": []
  },
  {
   "cell_type": "code",
   "execution_count": null,
   "metadata": {},
   "outputs": [],
   "source": []
  },
  {
   "cell_type": "code",
   "execution_count": null,
   "metadata": {},
   "outputs": [],
   "source": []
  }
 ],
 "metadata": {
  "kernelspec": {
   "display_name": "Python 3",
   "language": "python",
   "name": "python3"
  },
  "language_info": {
   "codemirror_mode": {
    "name": "ipython",
    "version": 3
   },
   "file_extension": ".py",
   "mimetype": "text/x-python",
   "name": "python",
   "nbconvert_exporter": "python",
   "pygments_lexer": "ipython3",
   "version": "3.6.7"
  }
 },
 "nbformat": 4,
 "nbformat_minor": 2
}
