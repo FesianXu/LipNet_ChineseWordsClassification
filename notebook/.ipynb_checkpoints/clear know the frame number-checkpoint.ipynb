{
 "cells": [
  {
   "cell_type": "code",
   "execution_count": 1,
   "metadata": {},
   "outputs": [],
   "source": [
    "import os"
   ]
  },
  {
   "cell_type": "code",
   "execution_count": 2,
   "metadata": {},
   "outputs": [],
   "source": [
    "types = ['train', 'test']\n",
    "path = lambda x: '/home/fesian/contest_workspace/chunyu/dataset/center_mouth_rgb/{}/'.format(x)"
   ]
  },
  {
   "cell_type": "code",
   "execution_count": 3,
   "metadata": {},
   "outputs": [],
   "source": [
    "lengths = []\n",
    "for eacht in types:\n",
    "    name = path(eacht)\n",
    "    namelist = [name+x+'/' for x in os.listdir(name)]\n",
    "    lengths += [len(os.listdir(x)) for x in namelist]"
   ]
  },
  {
   "cell_type": "code",
   "execution_count": 4,
   "metadata": {},
   "outputs": [],
   "source": [
    "import numpy as np\n",
    "import matplotlib.pyplot as plt\n",
    "%matplotlib inline"
   ]
  },
  {
   "cell_type": "code",
   "execution_count": 5,
   "metadata": {},
   "outputs": [
    {
     "data": {
      "text/plain": [
       "(array([  1.20000000e+01,   2.55000000e+02,   8.20000000e+02,\n",
       "          1.63200000e+03,   2.13900000e+03,   1.99200000e+03,\n",
       "          3.00200000e+03,   9.74000000e+02,   5.54000000e+02,\n",
       "          2.98000000e+02,   1.81000000e+02,   1.64000000e+02,\n",
       "          1.25000000e+02,   2.01000000e+02,   8.10000000e+01,\n",
       "          3.90000000e+01,   2.10000000e+01,   5.00000000e+00,\n",
       "          0.00000000e+00,   3.00000000e+00]),\n",
       " array([  1.  ,   2.15,   3.3 ,   4.45,   5.6 ,   6.75,   7.9 ,   9.05,\n",
       "         10.2 ,  11.35,  12.5 ,  13.65,  14.8 ,  15.95,  17.1 ,  18.25,\n",
       "         19.4 ,  20.55,  21.7 ,  22.85,  24.  ]),\n",
       " <a list of 20 Patch objects>)"
      ]
     },
     "execution_count": 5,
     "metadata": {},
     "output_type": "execute_result"
    },
    {
     "data": {
      "image/png": "[encoded data removed]",
      "text/plain": [
       "<matplotlib.figure.Figure at 0x7f6254c76f98>"
      ]
     },
     "metadata": {},
     "output_type": "display_data"
    }
   ],
   "source": [
    "lengths = np.array(lengths)\n",
    "plt.hist(lengths, bins=20)"
   ]
  },
  {
   "cell_type": "code",
   "execution_count": 7,
   "metadata": {},
   "outputs": [
    {
     "data": {
      "text/plain": [
       "0.019363098095695312"
      ]
     },
     "execution_count": 7,
     "metadata": {},
     "output_type": "execute_result"
    }
   ],
   "source": [
    "np.sum(lengths > 16) / len(lengths)"
   ]
  },
  {
   "cell_type": "code",
   "execution_count": null,
   "metadata": {},
   "outputs": [],
   "source": []
  },
  {
   "cell_type": "code",
   "execution_count": null,
   "metadata": {},
   "outputs": [],
   "source": []
  },
  {
   "cell_type": "code",
   "execution_count": null,
   "metadata": {},
   "outputs": [],
   "source": []
  }
 ],
 "metadata": {
  "kernelspec": {
   "display_name": "Python 3",
   "language": "python",
   "name": "python3"
  },
  "language_info": {
   "codemirror_mode": {
    "name": "ipython",
    "version": 3
   },
   "file_extension": ".py",
   "mimetype": "text/x-python",
   "name": "python",
   "nbconvert_exporter": "python",
   "pygments_lexer": "ipython3",
   "version": "3.6.7"
  }
 },
 "nbformat": 4,
 "nbformat_minor": 2
}
