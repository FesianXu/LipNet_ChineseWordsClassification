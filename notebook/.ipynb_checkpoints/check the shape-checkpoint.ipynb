{
 "cells": [
  {
   "cell_type": "code",
   "execution_count": 35,
   "metadata": {},
   "outputs": [],
   "source": [
    "import os\n",
    "import imageio as io\n",
    "import cv2"
   ]
  },
  {
   "cell_type": "code",
   "execution_count": 36,
   "metadata": {},
   "outputs": [],
   "source": [
    "path = '/home/fesian/contest_workspace/chunyu/dataset/center_mouth_rgb/train/'"
   ]
  },
  {
   "cell_type": "code",
   "execution_count": 37,
   "metadata": {},
   "outputs": [],
   "source": [
    "trainlist = os.listdir(path)"
   ]
  },
  {
   "cell_type": "code",
   "execution_count": 38,
   "metadata": {},
   "outputs": [],
   "source": [
    "invalid_list = []\n",
    "unread = []\n",
    "for each in trainlist:\n",
    "    name = path+each+'/'\n",
    "    samples = os.listdir(name)\n",
    "    for s in samples:\n",
    "        try:\n",
    "            img = io.imread(name+s)\n",
    "        except:\n",
    "            print(name+s)\n",
    "            unread.append(name+s)\n",
    "            break\n",
    "        if img.shape[0] != 120 or img.shape[1] != 240:\n",
    "            invalid_list.append(\n",
    "            {'name': name+s, 'shape':img.shape}\n",
    "            )"
   ]
  },
  {
   "cell_type": "code",
   "execution_count": 39,
   "metadata": {},
   "outputs": [
    {
     "data": {
      "text/plain": [
       "[{'name': '/home/fesian/contest_workspace/chunyu/dataset/center_mouth_rgb/train/e871a9ed282f91753e80402b6c33d744/7.png',\n",
       "  'shape': (83, 167, 3)},\n",
       " {'name': '/home/fesian/contest_workspace/chunyu/dataset/center_mouth_rgb/train/e871a9ed282f91753e80402b6c33d744/1.png',\n",
       "  'shape': (119, 146, 3)},\n",
       " {'name': '/home/fesian/contest_workspace/chunyu/dataset/center_mouth_rgb/train/e871a9ed282f91753e80402b6c33d744/2.png',\n",
       "  'shape': (93, 160, 3)},\n",
       " {'name': '/home/fesian/contest_workspace/chunyu/dataset/center_mouth_rgb/train/e871a9ed282f91753e80402b6c33d744/6.png',\n",
       "  'shape': (85, 163, 3)},\n",
       " {'name': '/home/fesian/contest_workspace/chunyu/dataset/center_mouth_rgb/train/e871a9ed282f91753e80402b6c33d744/3.png',\n",
       "  'shape': (115, 161, 3)},\n",
       " {'name': '/home/fesian/contest_workspace/chunyu/dataset/center_mouth_rgb/train/e871a9ed282f91753e80402b6c33d744/4.png',\n",
       "  'shape': (98, 166, 3)},\n",
       " {'name': '/home/fesian/contest_workspace/chunyu/dataset/center_mouth_rgb/train/e871a9ed282f91753e80402b6c33d744/5.png',\n",
       "  'shape': (85, 163, 3)}]"
      ]
     },
     "execution_count": 39,
     "metadata": {},
     "output_type": "execute_result"
    }
   ],
   "source": [
    "invalid_list"
   ]
  },
  {
   "cell_type": "code",
   "execution_count": 40,
   "metadata": {},
   "outputs": [
    {
     "name": "stdout",
     "output_type": "stream",
     "text": [
      "/home/fesian/contest_workspace/chunyu/dataset/center_mouth_rgb/train/e871a9ed282f91753e80402b6c33d744/7.png\n",
      "/home/fesian/contest_workspace/chunyu/dataset/center_mouth_rgb/train/e871a9ed282f91753e80402b6c33d744/1.png\n",
      "/home/fesian/contest_workspace/chunyu/dataset/center_mouth_rgb/train/e871a9ed282f91753e80402b6c33d744/2.png\n",
      "/home/fesian/contest_workspace/chunyu/dataset/center_mouth_rgb/train/e871a9ed282f91753e80402b6c33d744/6.png\n",
      "/home/fesian/contest_workspace/chunyu/dataset/center_mouth_rgb/train/e871a9ed282f91753e80402b6c33d744/3.png\n",
      "/home/fesian/contest_workspace/chunyu/dataset/center_mouth_rgb/train/e871a9ed282f91753e80402b6c33d744/4.png\n",
      "/home/fesian/contest_workspace/chunyu/dataset/center_mouth_rgb/train/e871a9ed282f91753e80402b6c33d744/5.png\n"
     ]
    }
   ],
   "source": [
    "# replace the abnormal one\n",
    "for each in invalid_list:\n",
    "    name = each['name']\n",
    "    img = io.imread(name)\n",
    "    img = cv2.resize(img, (240, 120))\n",
    "    cv2.imwrite(name, img[:,:,::-1])\n",
    "    print(name)"
   ]
  },
  {
   "cell_type": "code",
   "execution_count": null,
   "metadata": {},
   "outputs": [],
   "source": []
  },
  {
   "cell_type": "code",
   "execution_count": null,
   "metadata": {},
   "outputs": [],
   "source": []
  },
  {
   "cell_type": "code",
   "execution_count": null,
   "metadata": {},
   "outputs": [],
   "source": []
  }
 ],
 "metadata": {
  "kernelspec": {
   "display_name": "Python 3",
   "language": "python",
   "name": "python3"
  },
  "language_info": {
   "codemirror_mode": {
    "name": "ipython",
    "version": 3
   },
   "file_extension": ".py",
   "mimetype": "text/x-python",
   "name": "python",
   "nbconvert_exporter": "python",
   "pygments_lexer": "ipython3",
   "version": "3.6.7"
  }
 },
 "nbformat": 4,
 "nbformat_minor": 2
}
