{
 "cells": [
  {
   "cell_type": "code",
   "execution_count": 2,
   "metadata": {},
   "outputs": [],
   "source": [
    "import cv2\n",
    "import numpy as np\n",
    "import os"
   ]
  },
  {
   "cell_type": "code",
   "execution_count": 24,
   "metadata": {},
   "outputs": [],
   "source": [
    "train_imgpath = '/home/fesian/contest_workspace/chunyu/dataset/mouth_test/'\n",
    "trainlist = os.listdir(train_imgpath)"
   ]
  },
  {
   "cell_type": "code",
   "execution_count": 25,
   "metadata": {
    "scrolled": true
   },
   "outputs": [
    {
     "name": "stdout",
     "output_type": "stream",
     "text": [
      "0\n"
     ]
    },
    {
     "name": "stderr",
     "output_type": "stream",
     "text": [
      "/home/fesian/fesian_env3/lib/python3.6/site-packages/ipykernel_launcher.py:9: FutureWarning: comparison to `None` will result in an elementwise object comparison in the future.\n",
      "  if __name__ == '__main__':\n"
     ]
    },
    {
     "name": "stdout",
     "output_type": "stream",
     "text": [
      "100\n",
      "200\n",
      "300\n",
      "400\n",
      "500\n",
      "600\n",
      "700\n",
      "800\n",
      "900\n",
      "1000\n",
      "1100\n",
      "1200\n",
      "1300\n",
      "1400\n",
      "1500\n",
      "1600\n",
      "1700\n",
      "1800\n",
      "1900\n",
      "2000\n",
      "2100\n",
      "2200\n",
      "2300\n",
      "2400\n",
      "2500\n"
     ]
    }
   ],
   "source": [
    "widths = []\n",
    "heights = []\n",
    "for ind,each in enumerate(trainlist):\n",
    "    if ind % 100 == 0: print(ind)\n",
    "    imgs = os.listdir(train_imgpath+each)\n",
    "    for img in imgs:\n",
    "        path = train_imgpath+each+'/'+img\n",
    "        mat = cv2.imread(path)\n",
    "        if mat == None: continue\n",
    "#         if mat.shape[0] < 60:\n",
    "#             print(each)\n",
    "#             print(img)\n",
    "        widths += [mat.shape[0]]\n",
    "        heights += [mat.shape[1]]"
   ]
  },
  {
   "cell_type": "code",
   "execution_count": 12,
   "metadata": {},
   "outputs": [
    {
     "data": {
      "text/plain": [
       "258"
      ]
     },
     "execution_count": 12,
     "metadata": {},
     "output_type": "execute_result"
    }
   ],
   "source": [
    "max(widths)"
   ]
  },
  {
   "cell_type": "code",
   "execution_count": 13,
   "metadata": {},
   "outputs": [
    {
     "data": {
      "text/plain": [
       "286"
      ]
     },
     "execution_count": 13,
     "metadata": {},
     "output_type": "execute_result"
    }
   ],
   "source": [
    "max(heights)"
   ]
  },
  {
   "cell_type": "code",
   "execution_count": 14,
   "metadata": {},
   "outputs": [
    {
     "data": {
      "text/plain": [
       "2"
      ]
     },
     "execution_count": 14,
     "metadata": {},
     "output_type": "execute_result"
    }
   ],
   "source": [
    "min(widths)"
   ]
  },
  {
   "cell_type": "code",
   "execution_count": 15,
   "metadata": {},
   "outputs": [
    {
     "data": {
      "text/plain": [
       "77"
      ]
     },
     "execution_count": 15,
     "metadata": {},
     "output_type": "execute_result"
    }
   ],
   "source": [
    "min(heights)"
   ]
  },
  {
   "cell_type": "code",
   "execution_count": 18,
   "metadata": {},
   "outputs": [],
   "source": [
    "maps = {}\n",
    "for each in widths:\n",
    "    if each not in maps: maps[each] = 1\n",
    "    else: maps[each] += 1"
   ]
  },
  {
   "cell_type": "code",
   "execution_count": null,
   "metadata": {},
   "outputs": [],
   "source": []
  },
  {
   "cell_type": "code",
   "execution_count": 29,
   "metadata": {},
   "outputs": [
    {
     "data": {
      "text/plain": [
       "13"
      ]
     },
     "execution_count": 29,
     "metadata": {},
     "output_type": "execute_result"
    }
   ],
   "source": [
    "min(widths)"
   ]
  },
  {
   "cell_type": "code",
   "execution_count": 30,
   "metadata": {},
   "outputs": [],
   "source": [
    "maps = {}\n",
    "for each in widths:\n",
    "    if each not in maps: maps[each] = 1\n",
    "    else: maps[each] += 1"
   ]
  },
  {
   "cell_type": "code",
   "execution_count": 31,
   "metadata": {},
   "outputs": [
    {
     "data": {
      "text/plain": [
       "{13: 1,\n",
       " 20: 1,\n",
       " 22: 1,\n",
       " 23: 1,\n",
       " 26: 1,\n",
       " 59: 3,\n",
       " 60: 3,\n",
       " 61: 1,\n",
       " 62: 1,\n",
       " 63: 4,\n",
       " 64: 11,\n",
       " 65: 10,\n",
       " 66: 10,\n",
       " 67: 11,\n",
       " 68: 15,\n",
       " 69: 12,\n",
       " 70: 16,\n",
       " 71: 20,\n",
       " 72: 34,\n",
       " 73: 30,\n",
       " 74: 31,\n",
       " 75: 43,\n",
       " 76: 36,\n",
       " 77: 30,\n",
       " 78: 42,\n",
       " 79: 36,\n",
       " 80: 42,\n",
       " 81: 53,\n",
       " 82: 37,\n",
       " 83: 61,\n",
       " 84: 62,\n",
       " 85: 61,\n",
       " 86: 75,\n",
       " 87: 73,\n",
       " 88: 98,\n",
       " 89: 113,\n",
       " 90: 130,\n",
       " 91: 76,\n",
       " 92: 98,\n",
       " 93: 148,\n",
       " 94: 143,\n",
       " 95: 142,\n",
       " 96: 149,\n",
       " 97: 165,\n",
       " 98: 192,\n",
       " 99: 199,\n",
       " 100: 167,\n",
       " 101: 230,\n",
       " 102: 267,\n",
       " 103: 257,\n",
       " 104: 246,\n",
       " 105: 235,\n",
       " 106: 223,\n",
       " 107: 261,\n",
       " 108: 279,\n",
       " 109: 293,\n",
       " 110: 287,\n",
       " 111: 245,\n",
       " 112: 250,\n",
       " 113: 273,\n",
       " 114: 289,\n",
       " 115: 302,\n",
       " 116: 289,\n",
       " 117: 280,\n",
       " 118: 305,\n",
       " 119: 324,\n",
       " 120: 336,\n",
       " 121: 368,\n",
       " 122: 389,\n",
       " 123: 393,\n",
       " 124: 374,\n",
       " 125: 333,\n",
       " 126: 377,\n",
       " 127: 385,\n",
       " 128: 390,\n",
       " 129: 337,\n",
       " 130: 327,\n",
       " 131: 312,\n",
       " 132: 313,\n",
       " 133: 292,\n",
       " 134: 307,\n",
       " 135: 269,\n",
       " 136: 257,\n",
       " 137: 233,\n",
       " 138: 265,\n",
       " 139: 222,\n",
       " 140: 203,\n",
       " 141: 198,\n",
       " 142: 191,\n",
       " 143: 211,\n",
       " 144: 203,\n",
       " 145: 181,\n",
       " 146: 190,\n",
       " 147: 185,\n",
       " 148: 151,\n",
       " 149: 163,\n",
       " 150: 156,\n",
       " 151: 170,\n",
       " 152: 172,\n",
       " 153: 173,\n",
       " 154: 167,\n",
       " 155: 159,\n",
       " 156: 137,\n",
       " 157: 152,\n",
       " 158: 160,\n",
       " 159: 153,\n",
       " 160: 135,\n",
       " 161: 151,\n",
       " 162: 113,\n",
       " 163: 145,\n",
       " 164: 124,\n",
       " 165: 100,\n",
       " 166: 96,\n",
       " 167: 118,\n",
       " 168: 108,\n",
       " 169: 71,\n",
       " 170: 103,\n",
       " 171: 77,\n",
       " 172: 76,\n",
       " 173: 77,\n",
       " 174: 62,\n",
       " 175: 67,\n",
       " 176: 65,\n",
       " 177: 64,\n",
       " 178: 49,\n",
       " 179: 48,\n",
       " 180: 49,\n",
       " 181: 44,\n",
       " 182: 47,\n",
       " 183: 30,\n",
       " 184: 33,\n",
       " 185: 27,\n",
       " 186: 31,\n",
       " 187: 29,\n",
       " 188: 28,\n",
       " 189: 25,\n",
       " 190: 18,\n",
       " 191: 16,\n",
       " 192: 10,\n",
       " 193: 12,\n",
       " 194: 14,\n",
       " 195: 10,\n",
       " 196: 5,\n",
       " 197: 7,\n",
       " 198: 8,\n",
       " 199: 10,\n",
       " 200: 5,\n",
       " 201: 6,\n",
       " 202: 3,\n",
       " 203: 4,\n",
       " 204: 1,\n",
       " 205: 5,\n",
       " 206: 3,\n",
       " 207: 2,\n",
       " 208: 3,\n",
       " 209: 3,\n",
       " 210: 1,\n",
       " 211: 1,\n",
       " 212: 1,\n",
       " 214: 3,\n",
       " 215: 2,\n",
       " 217: 1,\n",
       " 221: 1,\n",
       " 223: 1,\n",
       " 230: 1,\n",
       " 231: 1}"
      ]
     },
     "execution_count": 31,
     "metadata": {},
     "output_type": "execute_result"
    }
   ],
   "source": [
    "maps # test"
   ]
  },
  {
   "cell_type": "code",
   "execution_count": 19,
   "metadata": {},
   "outputs": [
    {
     "data": {
      "text/plain": [
       "{2: 1,\n",
       " 8: 1,\n",
       " 12: 1,\n",
       " 14: 1,\n",
       " 16: 1,\n",
       " 17: 1,\n",
       " 19: 1,\n",
       " 23: 1,\n",
       " 33: 1,\n",
       " 56: 1,\n",
       " 57: 1,\n",
       " 61: 8,\n",
       " 62: 6,\n",
       " 63: 10,\n",
       " 64: 17,\n",
       " 65: 31,\n",
       " 66: 29,\n",
       " 67: 38,\n",
       " 68: 34,\n",
       " 69: 54,\n",
       " 70: 77,\n",
       " 71: 58,\n",
       " 72: 74,\n",
       " 73: 103,\n",
       " 74: 121,\n",
       " 75: 105,\n",
       " 76: 114,\n",
       " 77: 117,\n",
       " 78: 137,\n",
       " 79: 125,\n",
       " 80: 119,\n",
       " 81: 129,\n",
       " 82: 158,\n",
       " 83: 171,\n",
       " 84: 164,\n",
       " 85: 191,\n",
       " 86: 197,\n",
       " 87: 235,\n",
       " 88: 297,\n",
       " 89: 268,\n",
       " 90: 326,\n",
       " 91: 283,\n",
       " 92: 306,\n",
       " 93: 383,\n",
       " 94: 373,\n",
       " 95: 463,\n",
       " 96: 455,\n",
       " 97: 573,\n",
       " 98: 716,\n",
       " 99: 681,\n",
       " 100: 696,\n",
       " 101: 907,\n",
       " 102: 1077,\n",
       " 103: 1061,\n",
       " 104: 1030,\n",
       " 105: 963,\n",
       " 106: 1011,\n",
       " 107: 1149,\n",
       " 108: 1250,\n",
       " 109: 1306,\n",
       " 110: 1162,\n",
       " 111: 1074,\n",
       " 112: 1038,\n",
       " 113: 1049,\n",
       " 114: 1256,\n",
       " 115: 1288,\n",
       " 116: 1223,\n",
       " 117: 1170,\n",
       " 118: 1170,\n",
       " 119: 1261,\n",
       " 120: 1380,\n",
       " 121: 1602,\n",
       " 122: 1597,\n",
       " 123: 1551,\n",
       " 124: 1407,\n",
       " 125: 1442,\n",
       " 126: 1543,\n",
       " 127: 1698,\n",
       " 128: 1596,\n",
       " 129: 1543,\n",
       " 130: 1284,\n",
       " 131: 1300,\n",
       " 132: 1368,\n",
       " 133: 1376,\n",
       " 134: 1276,\n",
       " 135: 1156,\n",
       " 136: 1003,\n",
       " 137: 995,\n",
       " 138: 1008,\n",
       " 139: 972,\n",
       " 140: 936,\n",
       " 141: 799,\n",
       " 142: 726,\n",
       " 143: 751,\n",
       " 144: 723,\n",
       " 145: 742,\n",
       " 146: 671,\n",
       " 147: 624,\n",
       " 148: 574,\n",
       " 149: 588,\n",
       " 150: 542,\n",
       " 151: 547,\n",
       " 152: 546,\n",
       " 153: 542,\n",
       " 154: 503,\n",
       " 155: 481,\n",
       " 156: 466,\n",
       " 157: 502,\n",
       " 158: 439,\n",
       " 159: 425,\n",
       " 160: 423,\n",
       " 161: 405,\n",
       " 162: 418,\n",
       " 163: 368,\n",
       " 164: 359,\n",
       " 165: 386,\n",
       " 166: 338,\n",
       " 167: 307,\n",
       " 168: 304,\n",
       " 169: 307,\n",
       " 170: 265,\n",
       " 171: 236,\n",
       " 172: 272,\n",
       " 173: 216,\n",
       " 174: 199,\n",
       " 175: 166,\n",
       " 176: 180,\n",
       " 177: 173,\n",
       " 178: 141,\n",
       " 179: 146,\n",
       " 180: 115,\n",
       " 181: 138,\n",
       " 182: 133,\n",
       " 183: 92,\n",
       " 184: 102,\n",
       " 185: 84,\n",
       " 186: 78,\n",
       " 187: 67,\n",
       " 188: 64,\n",
       " 189: 85,\n",
       " 190: 58,\n",
       " 191: 47,\n",
       " 192: 38,\n",
       " 193: 37,\n",
       " 194: 40,\n",
       " 195: 30,\n",
       " 196: 29,\n",
       " 197: 28,\n",
       " 198: 16,\n",
       " 199: 23,\n",
       " 200: 11,\n",
       " 201: 11,\n",
       " 202: 9,\n",
       " 203: 7,\n",
       " 204: 8,\n",
       " 205: 5,\n",
       " 206: 7,\n",
       " 207: 6,\n",
       " 208: 9,\n",
       " 209: 5,\n",
       " 210: 8,\n",
       " 211: 3,\n",
       " 212: 3,\n",
       " 213: 2,\n",
       " 215: 2,\n",
       " 216: 1,\n",
       " 218: 1,\n",
       " 220: 2,\n",
       " 221: 1,\n",
       " 223: 2,\n",
       " 227: 1,\n",
       " 231: 1,\n",
       " 235: 1,\n",
       " 238: 1,\n",
       " 258: 1}"
      ]
     },
     "execution_count": 19,
     "metadata": {},
     "output_type": "execute_result"
    }
   ],
   "source": [
    "maps"
   ]
  }
 ],
 "metadata": {
  "kernelspec": {
   "display_name": "Python 3",
   "language": "python",
   "name": "python3"
  },
  "language_info": {
   "codemirror_mode": {
    "name": "ipython",
    "version": 3
   },
   "file_extension": ".py",
   "mimetype": "text/x-python",
   "name": "python",
   "nbconvert_exporter": "python",
   "pygments_lexer": "ipython3",
   "version": "3.6.7"
  }
 },
 "nbformat": 4,
 "nbformat_minor": 2
}
