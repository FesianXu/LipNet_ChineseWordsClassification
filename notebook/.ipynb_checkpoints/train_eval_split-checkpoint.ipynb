{
 "cells": [
  {
   "cell_type": "code",
   "execution_count": 1,
   "metadata": {},
   "outputs": [],
   "source": [
    "import numpy as np\n",
    "import random"
   ]
  },
  {
   "cell_type": "code",
   "execution_count": 7,
   "metadata": {},
   "outputs": [],
   "source": [
    "datalist = np.load('/home/fesian/contest_workspace/chunyu/dataset/labels/label_cls.npy')\n",
    "train_rate = 0.9"
   ]
  },
  {
   "cell_type": "code",
   "execution_count": 8,
   "metadata": {},
   "outputs": [],
   "source": [
    "randomlist = list(range(datalist.shape[0]))\n",
    "random.shuffle(randomlist)"
   ]
  },
  {
   "cell_type": "code",
   "execution_count": 21,
   "metadata": {},
   "outputs": [],
   "source": [
    "trainsample_index = datalist[np.array(randomlist[0:int(train_rate * datalist.shape[0])])]\n",
    "testsample_index = datalist[np.array(randomlist[int(train_rate * datalist.shape[0]):])]"
   ]
  },
  {
   "cell_type": "code",
   "execution_count": 22,
   "metadata": {},
   "outputs": [
    {
     "data": {
      "text/plain": [
       "(1000, 2)"
      ]
     },
     "execution_count": 22,
     "metadata": {},
     "output_type": "execute_result"
    }
   ],
   "source": [
    "testsample_index.shape"
   ]
  },
  {
   "cell_type": "code",
   "execution_count": 23,
   "metadata": {},
   "outputs": [
    {
     "data": {
      "text/plain": [
       "(8996, 2)"
      ]
     },
     "execution_count": 23,
     "metadata": {},
     "output_type": "execute_result"
    }
   ],
   "source": [
    "trainsample_index.shape"
   ]
  },
  {
   "cell_type": "code",
   "execution_count": 24,
   "metadata": {},
   "outputs": [
    {
     "data": {
      "text/plain": [
       "(9996, 2)"
      ]
     },
     "execution_count": 24,
     "metadata": {},
     "output_type": "execute_result"
    }
   ],
   "source": [
    "datalist.shape"
   ]
  },
  {
   "cell_type": "code",
   "execution_count": 25,
   "metadata": {},
   "outputs": [],
   "source": [
    "np.save('/home/fesian/contest_workspace/chunyu/dataset/labels/train_index.npy',trainsample_index)\n",
    "np.save('/home/fesian/contest_workspace/chunyu/dataset/labels/eval_index.npy', testsample_index)"
   ]
  },
  {
   "cell_type": "code",
   "execution_count": 16,
   "metadata": {
    "scrolled": true
   },
   "outputs": [
    {
     "data": {
      "text/plain": [
       "array([['e871a9ed282f91753e80402b6c33d744', '244'],\n",
       "       ['15f1bfff0b462cf62b6df5e027d556b7', '17'],\n",
       "       ['2c428b741fbbbc70d41c4be5b5461745', '163'],\n",
       "       ['0325bd8d4df7da5c5d030dcc20dd85f7', '270'],\n",
       "       ['4e0505ee3ad4a3362fe4a98c179813db', '232'],\n",
       "       ['d6ff3044037f3912642015e3106b0665', '124'],\n",
       "       ['62670ab680b0ff06f530ef0ac753da79', '232'],\n",
       "       ['5c3c464143c6cba3951985383ddcaca4', '171'],\n",
       "       ['22fb4e31d90632855608aa056e4954aa', '207'],\n",
       "       ['ea55ac728d162fd9afed1b047a746c68', '208'],\n",
       "       ['deee95d85e2f10847506914d9c03675c', '10'],\n",
       "       ['3a9efcecc05a4c21384f0b067fdde0a8', '99'],\n",
       "       ['20a9fae2f9cfd0d47608387f11a75771', '30'],\n",
       "       ['2b6ef3a4168f198a77f76f702c3e26d7', '111'],\n",
       "       ['aaeda516ce3433c23f672fd845b20ac8', '282'],\n",
       "       ['f7612eb79b8e391979b2628ae69ae429', '167'],\n",
       "       ['0326d69a43c561db4d60439addbc7795', '66'],\n",
       "       ['5bfdac66f165742b9bb57f8e8040fb50', '30'],\n",
       "       ['1492e07127b16b46a4ed48634f949ac5', '282'],\n",
       "       ['007c6766648e19a8cfee28a7399667e5', '253'],\n",
       "       ['91f7d9cf7457cd8639728a4f74c56cf3', '300'],\n",
       "       ['62beaa3c7842c3bd958a3de0b0caaeea', '200'],\n",
       "       ['297758d0ed51aae160f845f66556e9ca', '150'],\n",
       "       ['1da5bb31f06a67b8165da584c5c00922', '34'],\n",
       "       ['1206e766c62fba4682a74cc0015a2d6e', '206'],\n",
       "       ['ad999ad167c367c23543342e17f06b40', '183'],\n",
       "       ['103e8a61c5cfe7afbd4bdaa981a6d64b', '143'],\n",
       "       ['c97afab96008000d26be8d7a7697e1ca', '302'],\n",
       "       ['a20711378f6335302cc80bac4770885c', '300'],\n",
       "       ['d4debdde327f2e696c8aff27e2455af4', '45'],\n",
       "       ['02e86584a24a2d47b1ec7d0551860fd7', '208'],\n",
       "       ['384a9e730405904c12b404e55aa1b45c', '116'],\n",
       "       ['36f15969de0866c102e848b5cf01da37', '207'],\n",
       "       ['6a95823ec43f2818128ac0a79e3b444e', '208'],\n",
       "       ['1b84e45c7d2070c84bf3dedeceb5a751', '118'],\n",
       "       ['811e5e89f1df1b8ec19cca40debce35f', '289'],\n",
       "       ['da8158210bb4fadf3a588d91cff6a82d', '261'],\n",
       "       ['8f842dbe607cfa25ada36d1cd936ee0e', '117'],\n",
       "       ['04b0d5c0c82f75facc35a5c14d250f6c', '2'],\n",
       "       ['bfc0692714be8cc1a0d7c6f0ae9e151f', '107'],\n",
       "       ['4e01b4ffe3b6f737425bafbcdf9aacd8', '135'],\n",
       "       ['5e3cce8a89f2b3a0fe109b3ca8306330', '280'],\n",
       "       ['537383c5c921ecad4d31ae0e44d6d767', '27'],\n",
       "       ['54a2a2382c0bd6baa6823e2d5f0e9e86', '161'],\n",
       "       ['24a1b2efbd7b26dbd2224752b95a41f6', '125'],\n",
       "       ['293c1a1f6aea82e7b283ad47e90e908d', '270'],\n",
       "       ['eac99bc57b37b412b7d2cfd36aac714d', '307'],\n",
       "       ['005f0a3746334e008b4ca71a4f8bffa2', '173'],\n",
       "       ['c73e0c1a7ad8affd138a32c2f3f90000', '131'],\n",
       "       ['33888f821538e0872dfb51177accc08a', '225'],\n",
       "       ['aa9b27e9bd67889bcf2be2b898403537', '117'],\n",
       "       ['ea95d0badc27360be21cf4817e4fada3', '220'],\n",
       "       ['817fdb41e658f6619dc47ca1c4f6cd9f', '285'],\n",
       "       ['99b81056c376d1d553c01ce6b1f42786', '290'],\n",
       "       ['25951fca0ac85324bf30a95b3b27cc39', '49'],\n",
       "       ['2a9160d3310a25b40ee0687f6e550195', '251'],\n",
       "       ['7c0196a0c77910139221e39bec497efa', '172'],\n",
       "       ['75d4145eabb8b46765b060895ab59fbf', '233'],\n",
       "       ['abac598a817e56e64bc3aea1550bfc0e', '33'],\n",
       "       ['48d915dd9cbbf852c6f68a2b546dc72e', '238'],\n",
       "       ['bedb66031cdf85d6716494d155b5fefe', '93'],\n",
       "       ['4184c0d9899d71bad00dc5a1632ce2a4', '84'],\n",
       "       ['53c72dfd1664517d50f330ec289b9444', '310'],\n",
       "       ['885785b33e264fcdccab96cba131ef24', '1'],\n",
       "       ['9dfca2eb6148eba4b1d86222c4a05791', '17'],\n",
       "       ['04d2d995ebebf781db52916b36ddf452', '104'],\n",
       "       ['e0cf38e297e93a259a8a4b9a224447b0', '84'],\n",
       "       ['d74f292d76699a2bde9025fa677dc6c9', '85'],\n",
       "       ['7f03f4f3ca54a09329f32b6966befaa4', '162'],\n",
       "       ['0ba3e3ee963cc1a930034ecefb8e664f', '183'],\n",
       "       ['fc32188e2be1ed19a48c1cd10b7b6b8e', '96'],\n",
       "       ['4a5b3bb85f59dc3d348f7ad93a20571f', '53'],\n",
       "       ['10006fc4bfcd8ef06c41c5029a154e60', '76'],\n",
       "       ['31f06d2e7c4a3d60a4669119bdded018', '91'],\n",
       "       ['56c6f99996e009cf0a69c07a6138cc6a', '101'],\n",
       "       ['ee4af6b624b2be781f4386d5adea59e8', '94'],\n",
       "       ['44be2e1360e531fb938732c5d6fc9dc8', '276'],\n",
       "       ['0d61361ed4a63b7cae10cb9481ad2c0a', '56'],\n",
       "       ['2341936602a4f5606a1d68a96c561a72', '237'],\n",
       "       ['85d19cbb937960dc2415b521a313e70f', '50'],\n",
       "       ['9ea5ae36e2353b1f8d22a0aa5f5f538f', '5'],\n",
       "       ['8c07fb81f4cdfb115f7818fd14d3092d', '96'],\n",
       "       ['d4616816333717126fa72ee4e31a2229', '262'],\n",
       "       ['d9c80bed406992d76526277b7395ec51', '244'],\n",
       "       ['a6bb8ac16901f9214cabcd5a9865b669', '214'],\n",
       "       ['5fdcd7010b4c559508efdbca9f3d3caf', '96'],\n",
       "       ['0a47917285346c688cad09cb91bd4841', '30'],\n",
       "       ['0f61331b83b62d2dca9eb9af5234b1cb', '24'],\n",
       "       ['03c098e16b8d2dabf94533a0a8c266b6', '275'],\n",
       "       ['e9153a4fb52f343fe55bbb7034cf20fe', '38'],\n",
       "       ['991a74e9d1c0e3c4df63c1218f1ef175', '85'],\n",
       "       ['fd4cbabad82ad97bc593721a9332fff0', '189'],\n",
       "       ['ab7b84d0b2261becf0d2f69c28150ea1', '207'],\n",
       "       ['339fbfa414c8fb8fded30683409988ad', '99'],\n",
       "       ['739687576046fbba5c1a5675b691d441', '150'],\n",
       "       ['6aaead7d74f72f065419e95f7487c547', '170'],\n",
       "       ['416676db82592e0c88113a4a2a8f7315', '35'],\n",
       "       ['2413a5695a41dc867096781350015020', '215'],\n",
       "       ['98e974fae98c36d320dc1ae73ad44a39', '19'],\n",
       "       ['782eecb07936980289c02da2aa788e1b', '310']], \n",
       "      dtype='<U32')"
      ]
     },
     "execution_count": 16,
     "metadata": {},
     "output_type": "execute_result"
    }
   ],
   "source": [
    "trainsample_index"
   ]
  },
  {
   "cell_type": "code",
   "execution_count": null,
   "metadata": {},
   "outputs": [],
   "source": []
  },
  {
   "cell_type": "code",
   "execution_count": null,
   "metadata": {},
   "outputs": [],
   "source": []
  },
  {
   "cell_type": "code",
   "execution_count": null,
   "metadata": {},
   "outputs": [],
   "source": []
  }
 ],
 "metadata": {
  "kernelspec": {
   "display_name": "Python 3",
   "language": "python",
   "name": "python3"
  },
  "language_info": {
   "codemirror_mode": {
    "name": "ipython",
    "version": 3
   },
   "file_extension": ".py",
   "mimetype": "text/x-python",
   "name": "python",
   "nbconvert_exporter": "python",
   "pygments_lexer": "ipython3",
   "version": "3.6.7"
  }
 },
 "nbformat": 4,
 "nbformat_minor": 2
}
