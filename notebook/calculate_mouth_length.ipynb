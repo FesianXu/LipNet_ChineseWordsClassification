{
 "cells": [
  {
   "cell_type": "code",
   "execution_count": 1,
   "metadata": {},
   "outputs": [],
   "source": [
    "import numpy as np\n",
    "import os"
   ]
  },
  {
   "cell_type": "code",
   "execution_count": 4,
   "metadata": {},
   "outputs": [],
   "source": [
    "trainlist = os.listdir('/home/fesian/contest_workspace/chunyu/dataset/landmarks_normal/traindata/')\n",
    "testlist = os.listdir('/home/fesian/contest_workspace/chunyu/dataset/landmarks_normal/testdata//')"
   ]
  },
  {
   "cell_type": "code",
   "execution_count": 24,
   "metadata": {},
   "outputs": [
    {
     "name": "stdout",
     "output_type": "stream",
     "text": [
      "/home/fesian/contest_workspace/chunyu/dataset/landmarks_normal/traindata/95be66b71ef664cfb806c010ad3e4875.npy\n",
      "/home/fesian/contest_workspace/chunyu/dataset/landmarks_normal/traindata/5c0699f89fa47214cf338be280029387.npy\n"
     ]
    }
   ],
   "source": [
    "x = []\n",
    "y = []\n",
    "for each in trainlist:\n",
    "    path = '/home/fesian/contest_workspace/chunyu/dataset/landmarks_normal/traindata/'+each\n",
    "    mat = np.load(path)\n",
    "    if mat.shape[0] == 0: \n",
    "        print(path)\n",
    "        continue\n",
    "    mat = mat[:, 48:68,:]\n",
    "    gap = np.max(mat, axis=1)-np.min(mat, axis=1)\n",
    "    gap = np.max(gap, axis=0)\n",
    "    x += [gap[0]]\n",
    "    y += [gap[1]]"
   ]
  },
  {
   "cell_type": "code",
   "execution_count": 26,
   "metadata": {},
   "outputs": [
    {
     "data": {
      "text/plain": [
       "246.0"
      ]
     },
     "execution_count": 26,
     "metadata": {},
     "output_type": "execute_result"
    }
   ],
   "source": [
    "max(x)"
   ]
  },
  {
   "cell_type": "code",
   "execution_count": 27,
   "metadata": {},
   "outputs": [
    {
     "data": {
      "text/plain": [
       "66.0"
      ]
     },
     "execution_count": 27,
     "metadata": {},
     "output_type": "execute_result"
    }
   ],
   "source": [
    "min(x)"
   ]
  },
  {
   "cell_type": "code",
   "execution_count": 28,
   "metadata": {},
   "outputs": [
    {
     "data": {
      "text/plain": [
       "316.0"
      ]
     },
     "execution_count": 28,
     "metadata": {},
     "output_type": "execute_result"
    }
   ],
   "source": [
    "max(y)"
   ]
  },
  {
   "cell_type": "code",
   "execution_count": 29,
   "metadata": {},
   "outputs": [
    {
     "data": {
      "text/plain": [
       "40.0"
      ]
     },
     "execution_count": 29,
     "metadata": {},
     "output_type": "execute_result"
    }
   ],
   "source": [
    "min(y)"
   ]
  },
  {
   "cell_type": "code",
   "execution_count": null,
   "metadata": {},
   "outputs": [],
   "source": []
  }
 ],
 "metadata": {
  "kernelspec": {
   "display_name": "Python 3",
   "language": "python",
   "name": "python3"
  },
  "language_info": {
   "codemirror_mode": {
    "name": "ipython",
    "version": 3
   },
   "file_extension": ".py",
   "mimetype": "text/x-python",
   "name": "python",
   "nbconvert_exporter": "python",
   "pygments_lexer": "ipython3",
   "version": "3.6.7"
  }
 },
 "nbformat": 4,
 "nbformat_minor": 2
}
