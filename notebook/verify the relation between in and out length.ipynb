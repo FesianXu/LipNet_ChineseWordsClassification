{
 "cells": [
  {
   "cell_type": "code",
   "execution_count": 2,
   "metadata": {},
   "outputs": [],
   "source": [
    "import os\n",
    "import numpy as np"
   ]
  },
  {
   "cell_type": "code",
   "execution_count": 28,
   "metadata": {},
   "outputs": [],
   "source": [
    "types = ['train', '']\n",
    "paths = lambda x: '/home/fesian/contest_workspace/chunyu/dataset/center_mouth_rgb/{}/'.format(x)"
   ]
  },
  {
   "cell_type": "code",
   "execution_count": 40,
   "metadata": {},
   "outputs": [],
   "source": [
    "pairs = []\n",
    "index = {\n",
    "    'train': np.load('/home/fesian/contest_workspace/chunyu/dataset/labels/train_maps.npy', allow_pickle=True).item(),\n",
    "    'eval': np.load('/home/fesian/contest_workspace/chunyu/dataset/labels/eval_maps.npy', allow_pickle=True).item()\n",
    "}\n",
    "codebook = np.load('/home/fesian/contest_workspace/chunyu/dataset/ctc_labels/word_codebook.npy', allow_pickle=True).item()\n",
    "codebook = {v: k for k, v in codebook.items()}\n",
    "\n",
    "path = '/home/fesian/contest_workspace/chunyu/dataset/center_mouth_rgb/train/'\n",
    "folders = [path+x+'/' for x in os.listdir(path)]\n",
    "for sample in folders:\n",
    "    length = len(os.listdir(sample))\n",
    "    ids = sample.split('/')[-2]\n",
    "    if ids in index['train']:\n",
    "        label = index['train'][ids]\n",
    "    else:\n",
    "        label = index['eval'][ids]\n",
    "    pairs.append((length, len(codebook[label])))"
   ]
  },
  {
   "cell_type": "code",
   "execution_count": 42,
   "metadata": {},
   "outputs": [],
   "source": [
    "a = np.array(pairs)"
   ]
  },
  {
   "cell_type": "code",
   "execution_count": 43,
   "metadata": {},
   "outputs": [
    {
     "data": {
      "text/plain": [
       "(9994, 2)"
      ]
     },
     "execution_count": 43,
     "metadata": {},
     "output_type": "execute_result"
    }
   ],
   "source": [
    "a.shape"
   ]
  },
  {
   "cell_type": "code",
   "execution_count": 44,
   "metadata": {},
   "outputs": [],
   "source": [
    "import matplotlib.pyplot as plt\n",
    "%matplotlib inline"
   ]
  },
  {
   "cell_type": "code",
   "execution_count": 48,
   "metadata": {},
   "outputs": [
    {
     "data": {
      "text/plain": [
       "<matplotlib.collections.PathCollection at 0x7fd32b66cb70>"
      ]
     },
     "execution_count": 48,
     "metadata": {},
     "output_type": "execute_result"
    },
    {
     "data": {
      "image/png": "[encoded data removed]",
      "text/plain": [
       "<matplotlib.figure.Figure at 0x7fd32a73dd68>"
      ]
     },
     "metadata": {},
     "output_type": "display_data"
    }
   ],
   "source": [
    "plt.scatter(a[:, 1], a[:,0])"
   ]
  },
  {
   "cell_type": "code",
   "execution_count": 62,
   "metadata": {},
   "outputs": [],
   "source": [
    "c = []\n",
    "for each in a:\n",
    "    if each[1] == 2:\n",
    "        c += [each[0]]\n"
   ]
  },
  {
   "cell_type": "code",
   "execution_count": 61,
   "metadata": {},
   "outputs": [
    {
     "data": {
      "text/plain": [
       "9.518250471994966"
      ]
     },
     "execution_count": 61,
     "metadata": {},
     "output_type": "execute_result"
    }
   ],
   "source": [
    "np.mean(c)"
   ]
  },
  {
   "cell_type": "code",
   "execution_count": 63,
   "metadata": {},
   "outputs": [
    {
     "data": {
      "text/plain": [
       "6.744278169014085"
      ]
     },
     "execution_count": 63,
     "metadata": {},
     "output_type": "execute_result"
    }
   ],
   "source": [
    "np.mean(c)"
   ]
  }
 ],
 "metadata": {
  "kernelspec": {
   "display_name": "Python 3",
   "language": "python",
   "name": "python3"
  },
  "language_info": {
   "codemirror_mode": {
    "name": "ipython",
    "version": 3
   },
   "file_extension": ".py",
   "mimetype": "text/x-python",
   "name": "python",
   "nbconvert_exporter": "python",
   "pygments_lexer": "ipython3",
   "version": "3.6.7"
  }
 },
 "nbformat": 4,
 "nbformat_minor": 2
}
