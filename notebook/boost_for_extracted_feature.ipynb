{
 "cells": [
  {
   "cell_type": "code",
   "execution_count": 1,
   "metadata": {},
   "outputs": [
    {
     "name": "stderr",
     "output_type": "stream",
     "text": [
      "/home/fesian/fesian_env3/lib/python3.6/site-packages/sklearn/ensemble/weight_boosting.py:29: DeprecationWarning: numpy.core.umath_tests is an internal NumPy module and should not be imported. It will be removed in a future NumPy release.\n",
      "  from numpy.core.umath_tests import inner1d\n",
      "/home/fesian/fesian_env3/lib/python3.6/site-packages/sklearn/cross_validation.py:41: DeprecationWarning: This module was deprecated in version 0.18 in favor of the model_selection module into which all the refactored classes and functions are moved. Also note that the interface of the new CV iterators are different from that of this module. This module will be removed in 0.20.\n",
      "  \"This module will be removed in 0.20.\", DeprecationWarning)\n"
     ]
    }
   ],
   "source": [
    "\n",
    "import pandas as pd\n",
    "import numpy as np\n",
    "import matplotlib.pyplot as plt\n",
    "import seaborn as sns\n",
    "import xgboost as xgb\n",
    "from sklearn.model_selection import train_test_split\n",
    "from sklearn import preprocessing \n",
    "from sklearn.model_selection import GridSearchCV\n",
    "from sklearn.linear_model import LogisticRegression\n",
    "from sklearn.ensemble import RandomForestClassifier\n",
    "from sklearn.ensemble import GradientBoostingClassifier\n",
    "from sklearn import cross_validation\n",
    "from sklearn.preprocessing import LabelEncoder\n",
    "from sklearn.model_selection import GridSearchCV\n",
    "import warnings\n",
    "warnings.filterwarnings('ignore')"
   ]
  },
  {
   "cell_type": "code",
   "execution_count": 2,
   "metadata": {},
   "outputs": [],
   "source": [
    "train_set = np.load('/home/fesian/contest_workspace/chunyu/dataset/features/resnet18_512d/train_wo_eval/features_mat.npy',allow_pickle=True).item()\n",
    "test_set = np.load('/home/fesian/contest_workspace/chunyu/dataset/features/resnet18_512d/test_wo_eval/features_mat.npy',allow_pickle=True).item()"
   ]
  },
  {
   "cell_type": "code",
   "execution_count": 3,
   "metadata": {},
   "outputs": [],
   "source": [
    "train_index = np.load('/home/fesian/contest_workspace/chunyu/dataset/ctc_labels/index_files/train_index.npy', allow_pickle=True)\n",
    "test_index = np.load('/home/fesian/contest_workspace/chunyu/dataset/ctc_labels/index_files/test_index.npy', allow_pickle=True)\n",
    "eval_index = np.load('/home/fesian/contest_workspace/chunyu/dataset/ctc_labels/index_files/eval_index.npy', allow_pickle=True)"
   ]
  },
  {
   "cell_type": "code",
   "execution_count": 11,
   "metadata": {},
   "outputs": [],
   "source": [
    "traindata = np.zeros(shape=(len(train_index), 512))\n",
    "trainlabel = np.zeros(shape=(len(train_index)))\n",
    "for ind, each in enumerate(train_index):\n",
    "    label = each[1]\n",
    "    hashname = each[0]\n",
    "    mat = train_set[hashname][0]\n",
    "    traindata[ind, :] = mat\n",
    "    trainlabel[ind] = label\n",
    "\n",
    "evaldata = np.zeros(shape=(len(eval_index), 512))\n",
    "evallabel = np.zeros(shape=(len(eval_index)))\n",
    "for ind, each in enumerate(eval_index):\n",
    "    label = each[1]\n",
    "    hashname = each[0]\n",
    "    mat = train_set[hashname][0]\n",
    "    evaldata[ind, :] = mat\n",
    "    evallabel[ind] = label\n",
    "    \n",
    "testdata = np.zeros(shape=(len(test_index), 512))\n",
    "for ind, each in enumerate(test_index):\n",
    "    hashname = each\n",
    "    mat = test_set[hashname][0]\n",
    "    testdata[ind, :] = mat"
   ]
  },
  {
   "cell_type": "code",
   "execution_count": 12,
   "metadata": {},
   "outputs": [],
   "source": [
    "dtrain = xgb.DMatrix(traindata, label=trainlabel)\n",
    "deval = xgb.DMatrix(evaldata, label=evallabel)\n",
    "dtest = xgb.DMatrix(testdata, label=testlabel)"
   ]
  },
  {
   "cell_type": "code",
   "execution_count": null,
   "metadata": {},
   "outputs": [],
   "source": []
  },
  {
   "cell_type": "code",
   "execution_count": 6,
   "metadata": {
    "scrolled": true
   },
   "outputs": [
    {
     "name": "stdout",
     "output_type": "stream",
     "text": [
      "[0]\teval-merror:0.987\ttrain-merror:0.9831\n",
      "[1]\teval-merror:0.974\ttrain-merror:0.940516\n",
      "[2]\teval-merror:0.923\ttrain-merror:0.839893\n",
      "[3]\teval-merror:0.845\ttrain-merror:0.72515\n",
      "[4]\teval-merror:0.819\ttrain-merror:0.631977\n",
      "[5]\teval-merror:0.793\ttrain-merror:0.580387\n",
      "[6]\teval-merror:0.761\ttrain-merror:0.52724\n",
      "[7]\teval-merror:0.746\ttrain-merror:0.460084\n",
      "[8]\teval-merror:0.714\ttrain-merror:0.388259\n",
      "[9]\teval-merror:0.696\ttrain-merror:0.352791\n",
      "[10]\teval-merror:0.678\ttrain-merror:0.296976\n",
      "[11]\teval-merror:0.644\ttrain-merror:0.258172\n",
      "[12]\teval-merror:0.608\ttrain-merror:0.236602\n",
      "[13]\teval-merror:0.598\ttrain-merror:0.211808\n",
      "[14]\teval-merror:0.578\ttrain-merror:0.183344\n",
      "[15]\teval-merror:0.56\ttrain-merror:0.171114\n",
      "[16]\teval-merror:0.555\ttrain-merror:0.152657\n",
      "[17]\teval-merror:0.555\ttrain-merror:0.13598\n",
      "[18]\teval-merror:0.543\ttrain-merror:0.129197\n",
      "[19]\teval-merror:0.527\ttrain-merror:0.12386\n",
      "[20]\teval-merror:0.515\ttrain-merror:0.124416\n",
      "[21]\teval-merror:0.517\ttrain-merror:0.110518\n",
      "[22]\teval-merror:0.506\ttrain-merror:0.102735\n",
      "[23]\teval-merror:0.501\ttrain-merror:0.091839\n",
      "[24]\teval-merror:0.494\ttrain-merror:0.089393\n",
      "[25]\teval-merror:0.484\ttrain-merror:0.086836\n",
      "[26]\teval-merror:0.489\ttrain-merror:0.078608\n",
      "[27]\teval-merror:0.497\ttrain-merror:0.073605\n",
      "[28]\teval-merror:0.498\ttrain-merror:0.071047\n",
      "[29]\teval-merror:0.495\ttrain-merror:0.067267\n",
      "[30]\teval-merror:0.484\ttrain-merror:0.067378\n",
      "[31]\teval-merror:0.477\ttrain-merror:0.062264\n",
      "[32]\teval-merror:0.478\ttrain-merror:0.059595\n",
      "[33]\teval-merror:0.481\ttrain-merror:0.058817\n",
      "[34]\teval-merror:0.465\ttrain-merror:0.05437\n",
      "[35]\teval-merror:0.466\ttrain-merror:0.052035\n",
      "[36]\teval-merror:0.472\ttrain-merror:0.053035\n",
      "[37]\teval-merror:0.469\ttrain-merror:0.0497\n",
      "[38]\teval-merror:0.468\ttrain-merror:0.047698\n",
      "[39]\teval-merror:0.459\ttrain-merror:0.046698\n",
      "[40]\teval-merror:0.455\ttrain-merror:0.043585\n",
      "[41]\teval-merror:0.448\ttrain-merror:0.042695\n",
      "[42]\teval-merror:0.452\ttrain-merror:0.040694\n",
      "[43]\teval-merror:0.452\ttrain-merror:0.039248\n",
      "[44]\teval-merror:0.449\ttrain-merror:0.037025\n",
      "[45]\teval-merror:0.45\ttrain-merror:0.036024\n",
      "[46]\teval-merror:0.442\ttrain-merror:0.036246\n",
      "[47]\teval-merror:0.441\ttrain-merror:0.034579\n",
      "[48]\teval-merror:0.436\ttrain-merror:0.032688\n",
      "[49]\teval-merror:0.439\ttrain-merror:0.032021\n",
      "[50]\teval-merror:0.432\ttrain-merror:0.029131\n",
      "[51]\teval-merror:0.433\ttrain-merror:0.028908\n",
      "[52]\teval-merror:0.432\ttrain-merror:0.025795\n",
      "[53]\teval-merror:0.422\ttrain-merror:0.027796\n",
      "[54]\teval-merror:0.415\ttrain-merror:0.027796\n",
      "[55]\teval-merror:0.416\ttrain-merror:0.025684\n",
      "[56]\teval-merror:0.414\ttrain-merror:0.025128\n",
      "[57]\teval-merror:0.419\ttrain-merror:0.02435\n",
      "[58]\teval-merror:0.421\ttrain-merror:0.022459\n",
      "[59]\teval-merror:0.415\ttrain-merror:0.022459\n",
      "[60]\teval-merror:0.421\ttrain-merror:0.02157\n",
      "[61]\teval-merror:0.422\ttrain-merror:0.021236\n",
      "[62]\teval-merror:0.419\ttrain-merror:0.019791\n",
      "[63]\teval-merror:0.422\ttrain-merror:0.020013\n",
      "[64]\teval-merror:0.417\ttrain-merror:0.018901\n",
      "[65]\teval-merror:0.412\ttrain-merror:0.018457\n",
      "[66]\teval-merror:0.414\ttrain-merror:0.01779\n",
      "[67]\teval-merror:0.408\ttrain-merror:0.018346\n",
      "[68]\teval-merror:0.409\ttrain-merror:0.01879\n",
      "[69]\teval-merror:0.404\ttrain-merror:0.018679\n",
      "[70]\teval-merror:0.404\ttrain-merror:0.018234\n",
      "[71]\teval-merror:0.404\ttrain-merror:0.018457\n",
      "[72]\teval-merror:0.405\ttrain-merror:0.016344\n",
      "[73]\teval-merror:0.4\ttrain-merror:0.016567\n",
      "[74]\teval-merror:0.407\ttrain-merror:0.017011\n",
      "[75]\teval-merror:0.406\ttrain-merror:0.016233\n",
      "[76]\teval-merror:0.405\ttrain-merror:0.0169\n",
      "[77]\teval-merror:0.406\ttrain-merror:0.016344\n",
      "[78]\teval-merror:0.4\ttrain-merror:0.015566\n",
      "[79]\teval-merror:0.403\ttrain-merror:0.015788\n",
      "[80]\teval-merror:0.406\ttrain-merror:0.014565\n",
      "[81]\teval-merror:0.405\ttrain-merror:0.015232\n",
      "[82]\teval-merror:0.4\ttrain-merror:0.01501\n",
      "[83]\teval-merror:0.403\ttrain-merror:0.014899\n",
      "[84]\teval-merror:0.406\ttrain-merror:0.014121\n",
      "[85]\teval-merror:0.403\ttrain-merror:0.013453\n",
      "[86]\teval-merror:0.406\ttrain-merror:0.013453\n",
      "[87]\teval-merror:0.407\ttrain-merror:0.013787\n",
      "[88]\teval-merror:0.404\ttrain-merror:0.013231\n",
      "[89]\teval-merror:0.409\ttrain-merror:0.012786\n",
      "[90]\teval-merror:0.399\ttrain-merror:0.013009\n",
      "[91]\teval-merror:0.401\ttrain-merror:0.013231\n",
      "[92]\teval-merror:0.406\ttrain-merror:0.012564\n",
      "[93]\teval-merror:0.403\ttrain-merror:0.012675\n",
      "[94]\teval-merror:0.399\ttrain-merror:0.012897\n",
      "[95]\teval-merror:0.401\ttrain-merror:0.012675\n",
      "[96]\teval-merror:0.405\ttrain-merror:0.01312\n",
      "[97]\teval-merror:0.403\ttrain-merror:0.012453\n",
      "[98]\teval-merror:0.4\ttrain-merror:0.012342\n",
      "[99]\teval-merror:0.401\ttrain-merror:0.012342\n",
      "[100]\teval-merror:0.402\ttrain-merror:0.012119\n",
      "[101]\teval-merror:0.401\ttrain-merror:0.012119\n",
      "[102]\teval-merror:0.402\ttrain-merror:0.01223\n",
      "[103]\teval-merror:0.397\ttrain-merror:0.012453\n",
      "[104]\teval-merror:0.397\ttrain-merror:0.012786\n",
      "[105]\teval-merror:0.402\ttrain-merror:0.011897\n",
      "[106]\teval-merror:0.401\ttrain-merror:0.012008\n",
      "[107]\teval-merror:0.396\ttrain-merror:0.012342\n",
      "[108]\teval-merror:0.4\ttrain-merror:0.01223\n",
      "[109]\teval-merror:0.4\ttrain-merror:0.012342\n",
      "[110]\teval-merror:0.4\ttrain-merror:0.01223\n",
      "[111]\teval-merror:0.403\ttrain-merror:0.012342\n",
      "[112]\teval-merror:0.402\ttrain-merror:0.012786\n",
      "[113]\teval-merror:0.396\ttrain-merror:0.012786\n",
      "[114]\teval-merror:0.398\ttrain-merror:0.01312\n",
      "[115]\teval-merror:0.395\ttrain-merror:0.013231\n",
      "[116]\teval-merror:0.392\ttrain-merror:0.013342\n",
      "[117]\teval-merror:0.396\ttrain-merror:0.013009\n",
      "[118]\teval-merror:0.395\ttrain-merror:0.01312\n",
      "[119]\teval-merror:0.4\ttrain-merror:0.013009\n"
     ]
    }
   ],
   "source": [
    "accs = []\n",
    "depth = 6\n",
    "dtrain = xgb.DMatrix(traindata, label=trainlabel)\n",
    "deval = xgb.DMatrix(evaldata, label=evallabel)\n",
    "params = {\n",
    "    'booster': 'gbtree',\n",
    "    'objective': 'multi:softmax',  # 多分类的问题\n",
    "    'num_class': 313,               # 类别数，与 multisoftmax 并用\n",
    "    'gamma': 0.2,                  # 用于控制是否后剪枝的参数,越大越保守，一般0.1、0.2这样子。\n",
    "    'max_depth': depth,               # 构建树的深度，越大越容易过拟合\n",
    "    'lambda': 10,                   # 控制模型复杂度的权重值的L2正则化项参数，参数越大，模型越不容易过拟合。\n",
    "    'subsample': 0.5,              # 随机采样训练样本\n",
    "    'colsample_bytree': 0.7,       # 生成树时进行的列采样\n",
    "    'min_child_weight': 5,\n",
    "    'silent': 1,                   # 设置成1则没有运行信息输出，最好是设置为0.\n",
    "    'eta': 0.01,                  # 如同学习率\n",
    "    'seed': 200,\n",
    "    'nthread': 4,                  # cpu 线程数\n",
    "}\n",
    "params['gpu_id'] = 0\n",
    "params['max_bin'] = 25\n",
    "params['tree_method'] = 'gpu_hist'\n",
    "watchlist = [(deval, 'eval'), (dtrain, 'train')]\n",
    "n_round = 120\n",
    "booster = xgb.train(params, dtrain, num_boost_round=n_round, evals=watchlist)\n",
    "y_predicted = booster.predict(deval)\n",
    "acc = np.sum(y_predicted == evallabel)/len(evallabel)\n",
    "accs += [(acc, depth)]"
   ]
  },
  {
   "cell_type": "code",
   "execution_count": 36,
   "metadata": {},
   "outputs": [],
   "source": [
    "y_predicted = booster.predict(deval)\n",
    "acc = np.sum(y_predicted == evallabel)/len(evallabel)"
   ]
  },
  {
   "cell_type": "code",
   "execution_count": 37,
   "metadata": {},
   "outputs": [
    {
     "data": {
      "text/plain": [
       "0.6"
      ]
     },
     "execution_count": 37,
     "metadata": {},
     "output_type": "execute_result"
    }
   ],
   "source": [
    "acc"
   ]
  },
  {
   "cell_type": "code",
   "execution_count": 25,
   "metadata": {},
   "outputs": [],
   "source": [
    "codebook = np.load('/home/fesian/contest_workspace/chunyu/dataset/ctc_labels/word_codebook.npy', allow_pickle=True).item()\n",
    "codebook = {v:k for k,v in codebook.items()}"
   ]
  },
  {
   "cell_type": "code",
   "execution_count": 15,
   "metadata": {},
   "outputs": [],
   "source": [
    "pred = booster.predict(dtest)"
   ]
  },
  {
   "cell_type": "code",
   "execution_count": 29,
   "metadata": {
    "scrolled": true
   },
   "outputs": [],
   "source": [
    "filecsv = []\n",
    "for ind, p in zip(test_index, pred):\n",
    "    filecsv += [(ind, codebook[int(p)])]"
   ]
  },
  {
   "cell_type": "code",
   "execution_count": 31,
   "metadata": {},
   "outputs": [],
   "source": [
    "filecsv = np.array(filecsv)\n",
    "filecsv = pd.DataFrame(filecsv)"
   ]
  },
  {
   "cell_type": "code",
   "execution_count": 34,
   "metadata": {},
   "outputs": [],
   "source": [
    "filecsv.to_csv(\"./predict_ensemble_2.csv\", header=False, \n",
    "                                                index_label=False, \n",
    "                                                index=False)"
   ]
  },
  {
   "cell_type": "code",
   "execution_count": null,
   "metadata": {},
   "outputs": [],
   "source": []
  },
  {
   "cell_type": "code",
   "execution_count": null,
   "metadata": {},
   "outputs": [],
   "source": []
  },
  {
   "cell_type": "code",
   "execution_count": null,
   "metadata": {},
   "outputs": [],
   "source": []
  },
  {
   "cell_type": "code",
   "execution_count": null,
   "metadata": {},
   "outputs": [],
   "source": []
  }
 ],
 "metadata": {
  "kernelspec": {
   "display_name": "Python 3",
   "language": "python",
   "name": "python3"
  },
  "language_info": {
   "codemirror_mode": {
    "name": "ipython",
    "version": 3
   },
   "file_extension": ".py",
   "mimetype": "text/x-python",
   "name": "python",
   "nbconvert_exporter": "python",
   "pygments_lexer": "ipython3",
   "version": "3.6.7"
  }
 },
 "nbformat": 4,
 "nbformat_minor": 2
}
