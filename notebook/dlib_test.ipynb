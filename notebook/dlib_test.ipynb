{
 "cells": [
  {
   "cell_type": "code",
   "execution_count": 1,
   "metadata": {},
   "outputs": [],
   "source": [
    "import cv2\n",
    "import dlib"
   ]
  },
  {
   "cell_type": "code",
   "execution_count": 17,
   "metadata": {},
   "outputs": [],
   "source": [
    "path = \"/home/fesian/test.jpg\"\n",
    "img = cv2.imread(path)\n",
    "gray = cv2.cvtColor(img, cv2.COLOR_BGR2GRAY)"
   ]
  },
  {
   "cell_type": "code",
   "execution_count": 19,
   "metadata": {},
   "outputs": [],
   "source": [
    "#人脸分类器\n",
    "detector = dlib.get_frontal_face_detector()"
   ]
  },
  {
   "cell_type": "code",
   "execution_count": 20,
   "metadata": {},
   "outputs": [],
   "source": [
    "predictor = dlib.shape_predictor(\n",
    "    \"/home/fesian/contest_workspace/chunyu/model_weights/facelandmark/shape_predictor_68_face_landmarks.dat\"\n",
    ")"
   ]
  },
  {
   "cell_type": "code",
   "execution_count": 21,
   "metadata": {},
   "outputs": [],
   "source": [
    "dets = detector(gray, 1)"
   ]
  },
  {
   "cell_type": "code",
   "execution_count": 23,
   "metadata": {
    "scrolled": true
   },
   "outputs": [
    {
     "name": "stdout",
     "output_type": "stream",
     "text": [
      "(571, 335)\n",
      "(573, 375)\n",
      "(577, 416)\n",
      "(585, 455)\n",
      "(600, 491)\n",
      "(622, 525)\n",
      "(650, 552)\n",
      "(683, 571)\n",
      "(719, 578)\n",
      "(755, 572)\n",
      "(785, 549)\n",
      "(810, 520)\n",
      "(830, 487)\n",
      "(846, 451)\n",
      "(855, 415)\n",
      "(861, 378)\n",
      "(864, 339)\n",
      "(606, 312)\n",
      "(627, 296)\n",
      "(655, 294)\n",
      "(682, 302)\n",
      "(707, 314)\n",
      "(749, 313)\n",
      "(773, 304)\n",
      "(798, 300)\n",
      "(822, 303)\n",
      "(839, 321)\n",
      "(728, 342)\n",
      "(728, 367)\n",
      "(729, 392)\n",
      "(730, 418)\n",
      "(700, 440)\n",
      "(714, 443)\n",
      "(727, 445)\n",
      "(740, 443)\n",
      "(753, 441)\n",
      "(635, 342)\n",
      "(651, 339)\n",
      "(668, 339)\n",
      "(683, 348)\n",
      "(667, 351)\n",
      "(649, 350)\n",
      "(765, 351)\n",
      "(781, 344)\n",
      "(797, 345)\n",
      "(811, 350)\n",
      "(797, 357)\n",
      "(780, 356)\n",
      "(677, 494)\n",
      "(696, 481)\n",
      "(715, 472)\n",
      "(727, 477)\n",
      "(740, 473)\n",
      "(755, 481)\n",
      "(767, 496)\n",
      "(753, 509)\n",
      "(738, 518)\n",
      "(725, 519)\n",
      "(711, 518)\n",
      "(693, 511)\n",
      "(686, 494)\n",
      "(715, 491)\n",
      "(727, 493)\n",
      "(739, 491)\n",
      "(759, 494)\n",
      "(738, 493)\n",
      "(726, 495)\n",
      "(713, 494)\n"
     ]
    }
   ],
   "source": [
    "for face in dets:\n",
    "    shape = predictor(img, face)  # 寻找人脸的68个标定点\n",
    "    # 遍历所有点，打印出其坐标，并圈出来\n",
    "    for pt in shape.parts():\n",
    "        pt_pos = (pt.x, pt.y)\n",
    "        print(pt_pos)"
   ]
  },
  {
   "cell_type": "code",
   "execution_count": 15,
   "metadata": {},
   "outputs": [
    {
     "data": {
      "text/plain": [
       "0"
      ]
     },
     "execution_count": 15,
     "metadata": {},
     "output_type": "execute_result"
    }
   ],
   "source": []
  },
  {
   "cell_type": "code",
   "execution_count": null,
   "metadata": {},
   "outputs": [],
   "source": []
  },
  {
   "cell_type": "code",
   "execution_count": null,
   "metadata": {},
   "outputs": [],
   "source": []
  }
 ],
 "metadata": {
  "kernelspec": {
   "display_name": "Python 3",
   "language": "python",
   "name": "python3"
  },
  "language_info": {
   "codemirror_mode": {
    "name": "ipython",
    "version": 3
   },
   "file_extension": ".py",
   "mimetype": "text/x-python",
   "name": "python",
   "nbconvert_exporter": "python",
   "pygments_lexer": "ipython3",
   "version": "3.6.7"
  }
 },
 "nbformat": 4,
 "nbformat_minor": 2
}
